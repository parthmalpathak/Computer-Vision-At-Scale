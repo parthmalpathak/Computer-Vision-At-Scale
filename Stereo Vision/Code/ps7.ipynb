{
 "cells": [
  {
   "cell_type": "code",
   "execution_count": 1,
   "id": "7fc5569a",
   "metadata": {},
   "outputs": [],
   "source": [
    "import cv2 as cv\n",
    "import matplotlib.pyplot as plt\n",
    "import numpy as np"
   ]
  },
  {
   "cell_type": "code",
   "execution_count": 2,
   "id": "76122ff6",
   "metadata": {},
   "outputs": [],
   "source": [
    "ply_header = '''ply\n",
    "format ascii 1.0\n",
    "element vertex %(vert_num)d\n",
    "property float x\n",
    "property float y\n",
    "property float z\n",
    "property uchar red\n",
    "property uchar green\n",
    "property uchar blue\n",
    "end_header\n",
    "'''\n",
    "def write_ply(fn, verts, colors):\n",
    "    verts = verts.reshape(-1, 3)\n",
    "    colors = colors.reshape(-1, 3)\n",
    "    verts = np.hstack([verts, colors])\n",
    "    with open(fn, 'w') as f:\n",
    "        f.write(ply_header % dict(vert_num=len(verts)))\n",
    "        np.savetxt(f, verts, '%f %f %f %d %d %d')\n"
   ]
  },
  {
   "cell_type": "code",
   "execution_count": 61,
   "id": "25af0a13",
   "metadata": {},
   "outputs": [
    {
     "name": "stdout",
     "output_type": "stream",
     "text": [
      "Enter the Left Image: 2.png\n",
      "Enter the Right Image: 1.png\n",
      "out3.ply saved\n"
     ]
    }
   ],
   "source": [
    "\n",
    "\n",
    "img1 = input(\"Enter the Left Image: \")\n",
    "img2 = input(\"Enter the Right Image: \")\n",
    "img_l = cv.imread(img1)\n",
    "img_r = cv.imread(img2)\n",
    "\n",
    "img_l_gray = cv.cvtColor(img_l, cv.COLOR_BGR2GRAY)\n",
    "img_r_gray = cv.cvtColor(img_r, cv.COLOR_BGR2GRAY)\n",
    "\n",
    "\n",
    "block_size = 5\n",
    "min_disp = 16\n",
    "max_disp = 112\n",
    "\n",
    "num_disp = max_disp - min_disp\n",
    "\n",
    "uniquenessRatio = 10\n",
    "\n",
    "speckleWindowSize = 100\n",
    "\n",
    "speckleRange = 2\n",
    "disp12MaxDiff = 0\n",
    "\n",
    "stereo = cv.StereoSGBM_create(\n",
    "    minDisparity=min_disp,\n",
    "    numDisparities=num_disp,\n",
    "    blockSize=block_size,\n",
    "    uniquenessRatio=uniquenessRatio,\n",
    "    speckleWindowSize=speckleWindowSize,\n",
    "    speckleRange=speckleRange,\n",
    "    disp12MaxDiff=disp12MaxDiff,\n",
    "    P1=8 * 1 * block_size * block_size,\n",
    "    P2=32 * 1 * block_size * block_size,)\n",
    "disparity_SGBM = stereo.compute(img_l, img_r)\n",
    "\n",
    "disparity_SGBM = cv.normalize(disparity_SGBM, disparity_SGBM, alpha=255, beta=0, norm_type=cv.NORM_MINMAX)\n",
    "disparity_SGBM = np.uint8(disparity_SGBM)\n",
    "\n",
    "\n",
    "h, w = img_l.shape[:2]\n",
    "f = 0.8*w  \n",
    "Q = np.float32([[1, 0, 0, -0.5 * w],\n",
    "                [0, -1, 0, 0.5 * h],  \n",
    "                [0, 0, 0, -f], \n",
    "                [0, 0, 1, 0]])\n",
    "points = cv.reprojectImageTo3D(disparity_SGBM, Q)\n",
    "colors = cv.cvtColor(img_l, cv.COLOR_BGR2RGB)\n",
    "mask = disparity_SGBM > disparity_SGBM.min()\n",
    "out_points = points[mask]\n",
    "out_colors = colors[mask]\n",
    "out_fn = 'out.ply'\n",
    "# write_ply('out1ply', out_points, out_colors)\n",
    "# print ('%s saved' % 'out1.l')\n",
    "write_ply('out3.ply', out_points, out_colors)\n",
    "print ('%s saved' % 'out3.ply')\n",
    "\n",
    "cv.imshow(\"Left Image\", img_l)\n",
    "cv.imshow(\"Right Image\", img_r)\n",
    "cv.imshow(\"Disparity\", disparity_SGBM)\n",
    "#plt.imshow(dsparity_SGBM,'gray')\n",
    "#plt.axis('off')\n",
    "#plt.show()\n",
    "\n",
    "cv.waitKey()\n",
    "cv.destroyAllWindows()"
   ]
  },
  {
   "cell_type": "code",
   "execution_count": null,
   "id": "4e96d0cc",
   "metadata": {},
   "outputs": [],
   "source": []
  }
 ],
 "metadata": {
  "kernelspec": {
   "display_name": "Python 3",
   "language": "python",
   "name": "python3"
  },
  "language_info": {
   "codemirror_mode": {
    "name": "ipython",
    "version": 3
   },
   "file_extension": ".py",
   "mimetype": "text/x-python",
   "name": "python",
   "nbconvert_exporter": "python",
   "pygments_lexer": "ipython3",
   "version": "3.8.8"
  }
 },
 "nbformat": 4,
 "nbformat_minor": 5
}
