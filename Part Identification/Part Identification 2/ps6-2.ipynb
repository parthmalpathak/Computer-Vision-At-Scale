{
 "cells": [
  {
   "cell_type": "code",
   "execution_count": 1,
   "id": "dabef98e",
   "metadata": {},
   "outputs": [
    {
     "name": "stdout",
     "output_type": "stream",
     "text": [
      "Enter an Image: spade-terminal.png\n"
     ]
    }
   ],
   "source": [
    "#Image is: spade-terminal.png\n",
    "import cv2\n",
    "import numpy as np\n",
    "\n",
    "img1 = input(\"Enter an Image: \")\n",
    "\n",
    "img = cv2.imread(img1)\n",
    "\n",
    "\n",
    "\n",
    "gray = cv2.cvtColor(img, cv2.COLOR_RGB2GRAY)\n",
    "ret, thresh = cv2.threshold(gray, 127,255,0)\n",
    "kernel = np.ones((3,3), dtype = np.uint8)\n",
    "#dst = cv2.morphologyEx(thresh,cv2.MORPH_OPEN,kernel)\n",
    "dst = cv2.morphologyEx(thresh,cv2.MORPH_CLOSE,kernel)\n",
    "\n",
    "contours, hierarchy= cv2.findContours(dst, cv2.RETR_TREE, cv2.CHAIN_APPROX_SIMPLE)\n",
    "\n",
    "cont = []\n",
    "for i in range (len(contours)):\n",
    "    cont.append(cv2.contourArea(contours[i]))\n",
    "    \n",
    "MainArea = []\n",
    "for i in range (len(cont)):\n",
    "    if (cont[i]> 7000 and cont[i] < 9000):\n",
    "        MainArea.append(i)\n",
    "        \n",
    "Object = []\n",
    "for i in range(len(MainArea)):\n",
    "    Object.append(contours[MainArea[i]])\n",
    "\n",
    "distance1 = []\n",
    "distance2 = []\n",
    "distance3 = []\n",
    "for i in range (len(Object)): \n",
    "    distance1.append(cv2.matchShapes(Object[1], Object[i],cv2.CONTOURS_MATCH_I1,0))\n",
    "    distance2.append(cv2.matchShapes(Object[1], Object[i],cv2.CONTOURS_MATCH_I2,0))\n",
    "    distance3.append(cv2.matchShapes(Object[1], Object[i],cv2.CONTOURS_MATCH_I3,0))\n",
    "\n",
    "Incorrect = []\n",
    "Correct = []\n",
    "\n",
    "for i in range(len(distance1)):\n",
    "    if (distance1[i]> 0.16):\n",
    "        Incorrect.append(Object[i])\n",
    "    else:\n",
    "        Correct.append(Object[i])\n",
    "        \n",
    "img_cont = gray.copy\n",
    "img_cont = cv2.cvtColor(gray, cv2.COLOR_GRAY2RGB)\n",
    "for i in range(len(Incorrect)):\n",
    "    cv2.drawContours(img_cont, Incorrect, i , (0,0,255), -1)\n",
    "    \n",
    "scale_percent = 45 # percent of original size\n",
    "width = int(img.shape[1] * scale_percent / 100)\n",
    "height = int(img.shape[0] * scale_percent / 100)\n",
    "dim = (width, height)\n",
    "  \n",
    "# resize image\n",
    "img_cont = cv2.resize(img_cont, dim, interpolation = cv2.INTER_AREA)   \n",
    "#cv2.imshow(\"Image\", dst)\n",
    "cv2.imshow(\"Image\", img_cont)\n",
    "\n",
    "cv2.imwrite(\"spade-terminal-output.png\", img_cont)\n",
    "cv2.waitKey()\n",
    "cv2.destroyAllWindows()"
   ]
  },
  {
   "cell_type": "code",
   "execution_count": null,
   "id": "dc1aabac",
   "metadata": {},
   "outputs": [],
   "source": []
  }
 ],
 "metadata": {
  "kernelspec": {
   "display_name": "Python 3",
   "language": "python",
   "name": "python3"
  },
  "language_info": {
   "codemirror_mode": {
    "name": "ipython",
    "version": 3
   },
   "file_extension": ".py",
   "mimetype": "text/x-python",
   "name": "python",
   "nbconvert_exporter": "python",
   "pygments_lexer": "ipython3",
   "version": "3.8.8"
  }
 },
 "nbformat": 4,
 "nbformat_minor": 5
}
