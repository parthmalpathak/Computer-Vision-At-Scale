{
 "cells": [
  {
   "cell_type": "code",
   "execution_count": null,
   "id": "2271f6ea",
   "metadata": {},
   "outputs": [
    {
     "name": "stdout",
     "output_type": "stream",
     "text": [
      "Enter an Image: wall2.png\n"
     ]
    }
   ],
   "source": [
    "import cv2 as cv\n",
    "import numpy as np\n",
    "\n",
    "img1 = input(\"Enter an Image: \")\n",
    "img = cv.imread(img1)\n",
    "\n",
    "\n",
    "\n",
    "kernel = np.ones((3,3), np.uint8)\n",
    "kernel1 = np.ones((5,5), np.uint8)\n",
    "kernel2 = np.ones((7,7), np.uint8)\n",
    "kernel3 = np.ones((9,9), np.uint8)\n",
    "kernel4 = np.ones((13,13), np.uint8)\n",
    "\n",
    "for i in range (2):\n",
    "    img1 = cv.erode(img, kernel,i)\n",
    "    final = cv.dilate(img1, kernel,i)\n",
    "    \n",
    "cv.imwrite(\"wall2-blobs.png\", final)\n",
    "\n",
    "for i in range(0, img.shape[1]):\n",
    "    final[0, i] = 255\n",
    "    final[img.shape[0] - 1, i] = 255\n",
    "for i in range(0, img.shape[0]):\n",
    "    final[i , 0] = 255\n",
    "    final[i , img.shape[1] - 1] = 255\n",
    "\n",
    "final1 = cv.cvtColor(final, cv.COLOR_BGR2GRAY)\n",
    "ret, thresh = cv.threshold(final1, 127,255,0)\n",
    "contours, hierarchy= cv.findContours(thresh, cv.RETR_TREE, cv.CHAIN_APPROX_SIMPLE)\n",
    "\n",
    "for i in range(len(contours)):\n",
    "    color = (np.random.randint(0,256), np.random.randint(0,256), np.random.randint(0,256))\n",
    "    cv.drawContours(final, contours, i, color, 3)\n",
    "    \n",
    "cv.imwrite(\"wall2-contours.png\", final)\n",
    "\n",
    "img_cont = np.zeros(final1.shape, dtype = np.uint8)\n",
    "img_cont.fill(255)\n",
    "\n",
    "cont = []\n",
    "for i in range (len(contours)):\n",
    "    cont.append(cv.contourArea(contours[i]))\n",
    "cont = np.array(cont)\n",
    "np.where((cont > 1000))\n",
    "for i in range (np.shape(np.where(cont> 1000))[1]):\n",
    "    cv.drawContours(img_cont, contours,np.where((cont > 1000))[0][i] , (0,0,0), 1)\n",
    "    \n",
    "img_cont = cv.bitwise_not(img_cont) \n",
    "img_cont = cv.morphologyEx(img_cont,cv.MORPH_CLOSE,kernel4)\n",
    "\n",
    "kernel5 = cv.getStructuringElement(cv.MORPH_CROSS,(3,3))\n",
    "# Create an empty output image to hold values\n",
    "thin = np.zeros(final1.shape,dtype='uint8')\n",
    " \n",
    "# Loop until erosion leads to an empty set\n",
    "while (cv.countNonZero(img_cont)!=0):\n",
    "    # Erosion\n",
    "    erode = cv.erode(img_cont,kernel5)\n",
    "    # Opening on eroded image\n",
    "    opening = cv.morphologyEx(erode,cv.MORPH_OPEN,kernel5)\n",
    "    # Subtract these two\n",
    "    subset = erode - opening\n",
    "    # Union of all previous sets\n",
    "    thin = cv.bitwise_or(subset,thin)\n",
    "    # Set the eroded image for next iteration\n",
    "    img_cont = erode.copy()    \n",
    "\n",
    "thin = cv.bitwise_not(thin) \n",
    "\n",
    "cv.imwrite(\"wall2-cracks.png\", thin)\n",
    "\n",
    "#img2 = cv.bitwise_not(img2)'''\n",
    "cv.imshow(\"Original Image\", img)\n",
    "cv.imshow(\"wall2- contours\", final)\n",
    "cv.imshow(\"wall2- cracks\", thin)\n",
    "cv.waitKey(0)\n",
    "cv.destroyAllWindows()"
   ]
  },
  {
   "cell_type": "code",
   "execution_count": null,
   "id": "9a47486b",
   "metadata": {},
   "outputs": [],
   "source": []
  }
 ],
 "metadata": {
  "kernelspec": {
   "display_name": "Python 3",
   "language": "python",
   "name": "python3"
  },
  "language_info": {
   "codemirror_mode": {
    "name": "ipython",
    "version": 3
   },
   "file_extension": ".py",
   "mimetype": "text/x-python",
   "name": "python",
   "nbconvert_exporter": "python",
   "pygments_lexer": "ipython3",
   "version": "3.8.8"
  }
 },
 "nbformat": 4,
 "nbformat_minor": 5
}
